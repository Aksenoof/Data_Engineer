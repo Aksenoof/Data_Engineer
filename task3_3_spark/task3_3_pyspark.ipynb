{
 "cells": [
  {
   "cell_type": "code",
   "execution_count": 12,
   "id": "5fef2497",
   "metadata": {},
   "outputs": [],
   "source": [
    "from pyspark.sql import SparkSession\n",
    "import pyspark.sql.types as T\n",
    "import pyspark.sql.functions as F\n",
    "\n",
    "from pyspark.sql.functions import udf\n",
    "\n",
    "import datetime"
   ]
  },
  {
   "cell_type": "code",
   "execution_count": 13,
   "id": "6bc59314",
   "metadata": {},
   "outputs": [],
   "source": [
    "spark = SparkSession.builder.master(\"local\") \\\n",
    "                    .appName(\"Home_work_py\") \\\n",
    "                    .config(\"spark.driver.bindAddress\", \"localhost\") \\\n",
    "                    .config(\"spark.ui.port\", \"4040\") \\\n",
    "                    .getOrCreate()"
   ]
  },
  {
   "cell_type": "code",
   "execution_count": null,
   "id": "bd9b299e",
   "metadata": {},
   "outputs": [],
   "source": []
  },
  {
   "cell_type": "code",
   "execution_count": 14,
   "id": "60616b0a",
   "metadata": {},
   "outputs": [],
   "source": [
    "schema_web = T.StructType([\n",
    "                T.StructField(\"id\", T.StringType(), True),\n",
    "                T.StructField(\"timestamp\", T.LongType(), True),\n",
    "                T.StructField(\"type\", T.StringType(), True),\n",
    "                T.StructField(\"page_id\", T.IntegerType(), True),\n",
    "                T.StructField(\"tag\", T.StringType(), True),\n",
    "                T.StructField(\"sign\", T.BooleanType(), True)])"
   ]
  },
  {
   "cell_type": "code",
   "execution_count": 34,
   "id": "e9312c82",
   "metadata": {},
   "outputs": [],
   "source": [
    "data_web =[(1, 1667627126, \"visit\", 101, 'Sport', False),\n",
    "           (1, 1667627286, \"scroll\", 101, 'Sport', False),\n",
    "           (1, 1667627300, \"click\", 101, 'Sport', False),\n",
    "           (1, 1667627505, \"visit\", 102, 'Politics', False),\n",
    "           (1, 1667627565, \"click\", 102, 'Politics', False),\n",
    "           (1, 1667627586, \"visit\", 103, 'Sport', False),\n",
    "           (2, 1667728001, \"visit\", 104, 'Politics', True),\n",
    "           (2, 1667728101, \"scroll\", 104, 'Politics', True),\n",
    "           (2, 1667728151, \"click\", 104, 'Politics', True),\n",
    "           (2, 1667728200, \"visit\", 105, 'Business', True),\n",
    "           (2, 1667728226, \"click\", 105, 'Business', True),\n",
    "           (2, 1667728317, \"visit\", 106, 'Business', True),\n",
    "           (2, 1667728359, \"scroll\", 106, 'Business', True),\n",
    "           (3, 1667828422, \"visit\", 101, 'Sport', False),\n",
    "           (3, 1667828486, \"scroll\", 101, 'Sport', False),\n",
    "           (4, 1667828505, \"visit\", 106, 'Business', False),\n",
    "           (5, 1667828511, \"visit\", 101, 'Sport', True),\n",
    "           (5, 1667828901, \"click\", 101, 'Sport', True),\n",
    "           (5, 1667828926, \"visit\", 102, 'Politics', True),\n",
    "           (5, 1667828976, \"click\", 102, 'Politics', True),\n",
    "           (6, 1667728317, \"visit\", 106, 'Business', True),\n",
    "           (6, 1667728359, \"scroll\", 106, 'Business', True),\n",
    "           (6, 1667828422, \"visit\", 101, 'Sport', False),]\n",
    "\n",
    "\n",
    "df_web = spark.createDataFrame(data = data_web, schema = schema_web)"
   ]
  },
  {
   "cell_type": "code",
   "execution_count": 35,
   "id": "ebb59c2d",
   "metadata": {},
   "outputs": [
    {
     "name": "stdout",
     "output_type": "stream",
     "text": [
      "+---+----------+------+-------+--------+-----+\n",
      "| id| timestamp|  type|page_id|     tag| sign|\n",
      "+---+----------+------+-------+--------+-----+\n",
      "|  1|1667627126| visit|    101|   Sport|false|\n",
      "|  1|1667627286|scroll|    101|   Sport|false|\n",
      "|  1|1667627300| click|    101|   Sport|false|\n",
      "|  1|1667627505| visit|    102|Politics|false|\n",
      "|  1|1667627565| click|    102|Politics|false|\n",
      "|  1|1667627586| visit|    103|   Sport|false|\n",
      "|  2|1667728001| visit|    104|Politics| true|\n",
      "|  2|1667728101|scroll|    104|Politics| true|\n",
      "|  2|1667728151| click|    104|Politics| true|\n",
      "|  2|1667728200| visit|    105|Business| true|\n",
      "|  2|1667728226| click|    105|Business| true|\n",
      "|  2|1667728317| visit|    106|Business| true|\n",
      "|  2|1667728359|scroll|    106|Business| true|\n",
      "|  3|1667828422| visit|    101|   Sport|false|\n",
      "|  3|1667828486|scroll|    101|   Sport|false|\n",
      "|  4|1667828505| visit|    106|Business|false|\n",
      "|  5|1667828511| visit|    101|   Sport| true|\n",
      "|  5|1667828901| click|    101|   Sport| true|\n",
      "|  5|1667828926| visit|    102|Politics| true|\n",
      "|  5|1667828976| click|    102|Politics| true|\n",
      "|  6|1667728317| visit|    106|Business| true|\n",
      "|  6|1667728359|scroll|    106|Business| true|\n",
      "|  6|1667828422| visit|    101|   Sport|false|\n",
      "+---+----------+------+-------+--------+-----+\n",
      "\n"
     ]
    }
   ],
   "source": [
    "df_web.show(25)"
   ]
  },
  {
   "cell_type": "code",
   "execution_count": null,
   "id": "783c5c29",
   "metadata": {},
   "outputs": [],
   "source": []
  },
  {
   "cell_type": "code",
   "execution_count": 36,
   "id": "fe511687",
   "metadata": {},
   "outputs": [
    {
     "name": "stderr",
     "output_type": "stream",
     "text": [
      "[Stage 44:=============================================>        (167 + 1) / 200]\r"
     ]
    },
    {
     "name": "stdout",
     "output_type": "stream",
     "text": [
      "+---+-----+\n",
      "| id|count|\n",
      "+---+-----+\n",
      "|  2|    7|\n",
      "|  1|    6|\n",
      "|  5|    4|\n",
      "|  6|    3|\n",
      "|  3|    2|\n",
      "|  4|    1|\n",
      "+---+-----+\n",
      "\n"
     ]
    },
    {
     "name": "stderr",
     "output_type": "stream",
     "text": [
      "                                                                                \r"
     ]
    }
   ],
   "source": [
    "#Вывести топ-5 самых активных посетителей сайта\n",
    "df_web.groupby('id')\\\n",
    "      .count()\\\n",
    "      .orderBy('count', ascending = False)\\\n",
    "      .show()"
   ]
  },
  {
   "cell_type": "code",
   "execution_count": null,
   "id": "85c84827",
   "metadata": {},
   "outputs": [],
   "source": []
  },
  {
   "cell_type": "code",
   "execution_count": 37,
   "id": "f198e5fc",
   "metadata": {},
   "outputs": [
    {
     "name": "stderr",
     "output_type": "stream",
     "text": [
      "[Stage 46:=================================================>    (182 + 1) / 200]\r"
     ]
    },
    {
     "name": "stdout",
     "output_type": "stream",
     "text": [
      "+---+---------+\n",
      "| id|event_cnt|\n",
      "+---+---------+\n",
      "|  2|        7|\n",
      "|  1|        6|\n",
      "|  5|        4|\n",
      "|  6|        3|\n",
      "|  3|        2|\n",
      "+---+---------+\n",
      "only showing top 5 rows\n",
      "\n"
     ]
    },
    {
     "name": "stderr",
     "output_type": "stream",
     "text": [
      "                                                                                \r"
     ]
    }
   ],
   "source": [
    "df_web.groupby('id')\\\n",
    "      .agg(F.count('*').alias('event_cnt'))\\\n",
    "      .orderBy('event_cnt', ascending = False)\\\n",
    "      .show(5)"
   ]
  },
  {
   "cell_type": "code",
   "execution_count": null,
   "id": "07b0f961",
   "metadata": {},
   "outputs": [],
   "source": []
  },
  {
   "cell_type": "code",
   "execution_count": 38,
   "id": "eb9a35cd",
   "metadata": {},
   "outputs": [
    {
     "name": "stdout",
     "output_type": "stream",
     "text": [
      "+-----------------+\n",
      "|percent_sign_user|\n",
      "+-----------------+\n",
      "|               56|\n",
      "+-----------------+\n",
      "\n"
     ]
    }
   ],
   "source": [
    "# Посчитать процент посетителей, у которых есть ЛК\n",
    "df_web.select(F.floor((F.count(F.when(df_web.sign == 'true', True)) * 100 / F.count('*'))).alias('percent_sign_user'))\\\n",
    "      .show()"
   ]
  },
  {
   "cell_type": "code",
   "execution_count": null,
   "id": "17dedbf0",
   "metadata": {},
   "outputs": [],
   "source": []
  },
  {
   "cell_type": "code",
   "execution_count": 39,
   "id": "15313736",
   "metadata": {},
   "outputs": [
    {
     "name": "stderr",
     "output_type": "stream",
     "text": [
      "[Stage 50:===================================================>  (192 + 1) / 200]\r"
     ]
    },
    {
     "name": "stdout",
     "output_type": "stream",
     "text": [
      "+-------+\n",
      "|page_id|\n",
      "+-------+\n",
      "|    101|\n",
      "|    102|\n",
      "|    104|\n",
      "|    105|\n",
      "|    103|\n",
      "+-------+\n",
      "only showing top 5 rows\n",
      "\n"
     ]
    },
    {
     "name": "stderr",
     "output_type": "stream",
     "text": [
      "                                                                                \r"
     ]
    }
   ],
   "source": [
    "# Вывести топ-5 страниц сайта по показателю общего кол-ва кликов на данной странице\n",
    "df_web.groupby('page_id')\\\n",
    "      .agg(F.count(F.when(df_web.type =='click', True)).alias(\"type_cnt\"))\\\n",
    "      .orderBy('type_cnt', ascending = False)\\\n",
    "      .select('page_id')\\\n",
    "      .show(5)"
   ]
  },
  {
   "cell_type": "code",
   "execution_count": 40,
   "id": "37b28eb5",
   "metadata": {},
   "outputs": [],
   "source": [
    "# Добавьте столбец к фрейму данных со значением временного диапазона в рамках суток с размером окна – 4 часа(0-4, 4-8, 8-12, 12-16, 16-20, 20-24 и т.д.)\n",
    "df_web = df_web.select(*[i for i in df_web.columns if i != 'timestamp'],\n",
    "                       F.from_unixtime('timestamp').alias('event_time'))\\\n",
    "               .withColumn('range', F.floor(F.hour('event_time') / F.lit(4)))\\\n",
    "               .withColumn('time_range', F.expr(\"case when range = 0 then '0 - 4'\" +\n",
    "                                                     \"when range = 1 then '4 - 8'\" +\n",
    "                                                     \"when range = 2 then '8 - 12'\" +\n",
    "                                                     \"when range = 3 then '12 - 16'\" +\n",
    "                                                     \"when range = 4 then '16 - 20'\" +\n",
    "                                                     \"when range = 5 then '20 - 24'\" +\n",
    "                                                     \"else 'Unknown' end\"))\\\n",
    "               .drop('range')"
   ]
  },
  {
   "cell_type": "code",
   "execution_count": 41,
   "id": "a5d3d9cc",
   "metadata": {},
   "outputs": [
    {
     "name": "stdout",
     "output_type": "stream",
     "text": [
      "+---+------+-------+--------+-----+-------------------+----------+\n",
      "| id|  type|page_id|     tag| sign|         event_time|time_range|\n",
      "+---+------+-------+--------+-----+-------------------+----------+\n",
      "|  1| visit|    101|   Sport|false|2022-11-05 05:45:26|     4 - 8|\n",
      "|  1|scroll|    101|   Sport|false|2022-11-05 05:48:06|     4 - 8|\n",
      "|  1| click|    101|   Sport|false|2022-11-05 05:48:20|     4 - 8|\n",
      "|  1| visit|    102|Politics|false|2022-11-05 05:51:45|     4 - 8|\n",
      "|  1| click|    102|Politics|false|2022-11-05 05:52:45|     4 - 8|\n",
      "|  1| visit|    103|   Sport|false|2022-11-05 05:53:06|     4 - 8|\n",
      "|  2| visit|    104|Politics| true|2022-11-06 09:46:41|    8 - 12|\n",
      "|  2|scroll|    104|Politics| true|2022-11-06 09:48:21|    8 - 12|\n",
      "|  2| click|    104|Politics| true|2022-11-06 09:49:11|    8 - 12|\n",
      "|  2| visit|    105|Business| true|2022-11-06 09:50:00|    8 - 12|\n",
      "|  2| click|    105|Business| true|2022-11-06 09:50:26|    8 - 12|\n",
      "|  2| visit|    106|Business| true|2022-11-06 09:51:57|    8 - 12|\n",
      "|  2|scroll|    106|Business| true|2022-11-06 09:52:39|    8 - 12|\n",
      "|  3| visit|    101|   Sport|false|2022-11-07 13:40:22|   12 - 16|\n",
      "|  3|scroll|    101|   Sport|false|2022-11-07 13:41:26|   12 - 16|\n",
      "|  4| visit|    106|Business|false|2022-11-07 13:41:45|   12 - 16|\n",
      "|  5| visit|    101|   Sport| true|2022-11-07 13:41:51|   12 - 16|\n",
      "|  5| click|    101|   Sport| true|2022-11-07 13:48:21|   12 - 16|\n",
      "|  5| visit|    102|Politics| true|2022-11-07 13:48:46|   12 - 16|\n",
      "|  5| click|    102|Politics| true|2022-11-07 13:49:36|   12 - 16|\n",
      "|  6| visit|    106|Business| true|2022-11-06 09:51:57|    8 - 12|\n",
      "|  6|scroll|    106|Business| true|2022-11-06 09:52:39|    8 - 12|\n",
      "|  6| visit|    101|   Sport|false|2022-11-07 13:40:22|   12 - 16|\n",
      "+---+------+-------+--------+-----+-------------------+----------+\n",
      "\n"
     ]
    }
   ],
   "source": [
    "df_web.show(25)"
   ]
  },
  {
   "cell_type": "code",
   "execution_count": null,
   "id": "5f492f23",
   "metadata": {},
   "outputs": [],
   "source": []
  },
  {
   "cell_type": "code",
   "execution_count": 42,
   "id": "de913aff",
   "metadata": {},
   "outputs": [
    {
     "name": "stderr",
     "output_type": "stream",
     "text": [
      "[Stage 53:=============================================>        (167 + 1) / 200]\r"
     ]
    },
    {
     "name": "stdout",
     "output_type": "stream",
     "text": [
      "+----------+\n",
      "|time_range|\n",
      "+----------+\n",
      "|    8 - 12|\n",
      "|   12 - 16|\n",
      "|     4 - 8|\n",
      "+----------+\n",
      "\n"
     ]
    },
    {
     "name": "stderr",
     "output_type": "stream",
     "text": [
      "                                                                                \r"
     ]
    }
   ],
   "source": [
    "#  Выведите временной промежуток на основе предыдущего задания, в течение которого было больше всего активностей на сайте.\n",
    "df_web.groupby('time_range')\\\n",
    "      .agg(F.count('*').alias('range_cnt'))\\\n",
    "      .orderBy('range_cnt', ascending = False)\\\n",
    "      .select('time_range')\\\n",
    "      .show()"
   ]
  },
  {
   "cell_type": "code",
   "execution_count": null,
   "id": "662cf592",
   "metadata": {},
   "outputs": [],
   "source": []
  },
  {
   "cell_type": "code",
   "execution_count": 43,
   "id": "27e26c8a",
   "metadata": {},
   "outputs": [],
   "source": [
    "schema_lk = T.StructType([\n",
    "                T.StructField(\"id\", T.StringType(), True),\n",
    "                T.StructField(\"user_id\", T.IntegerType(), True),\n",
    "                T.StructField(\"fio\", T.StringType(), True),\n",
    "                T.StructField(\"dob\", T.DateType(), True),\n",
    "                T.StructField(\"doc\", T.DateType(), True)])"
   ]
  },
  {
   "cell_type": "code",
   "execution_count": 44,
   "id": "9e6f57a0",
   "metadata": {},
   "outputs": [],
   "source": [
    "data_lk = [\n",
    "    (101, 2, \"Иванов Иван Иванович\", datetime.datetime(1990, 7, 5), datetime.datetime(2016, 8, 1)),\n",
    "    (102, 5, \"Александрова Александра Александровна\", datetime.datetime(1995, 1, 22), datetime.datetime(2017, 10, 7)),\n",
    "    (103, 1, \"Николаева Людмила Петрововна\", datetime.datetime(1991, 5, 2), datetime.datetime(2017, 1, 17)),\n",
    "    (104, 3, \"Петров Петр Петрович\", datetime.datetime(1998, 8, 13), datetime.datetime(2013, 5, 27)),\n",
    "    (105, 4, \"Сидоров Иван Петрович\", datetime.datetime(1994, 3, 10), datetime.datetime(2018, 11, 9)),\n",
    "    (106, 6, \"Степанов Степан Степаныч\", datetime.datetime(1989, 6, 11), datetime.datetime(2020, 9, 19))]\n",
    "\n",
    "df_lk = spark.createDataFrame(data = data_lk, schema = schema_lk)"
   ]
  },
  {
   "cell_type": "code",
   "execution_count": 45,
   "id": "d0d559d2",
   "metadata": {},
   "outputs": [
    {
     "name": "stdout",
     "output_type": "stream",
     "text": [
      "+---+-------+--------------------+----------+----------+\n",
      "| id|user_id|                 fio|       dob|       doc|\n",
      "+---+-------+--------------------+----------+----------+\n",
      "|101|      2|Иванов Иван Иванович|1990-07-05|2016-08-01|\n",
      "|102|      5|Александрова Алек...|1995-01-22|2017-10-07|\n",
      "|103|      1|Николаева Людмила...|1991-05-02|2017-01-17|\n",
      "|104|      3|Петров Петр Петрович|1998-08-13|2013-05-27|\n",
      "|105|      4|Сидоров Иван Петр...|1994-03-10|2018-11-09|\n",
      "|106|      6|Степанов Степан С...|1989-06-11|2020-09-19|\n",
      "+---+-------+--------------------+----------+----------+\n",
      "\n"
     ]
    }
   ],
   "source": [
    "df_lk.show()"
   ]
  },
  {
   "cell_type": "code",
   "execution_count": null,
   "id": "f834731c",
   "metadata": {},
   "outputs": [],
   "source": []
  },
  {
   "cell_type": "code",
   "execution_count": 46,
   "id": "0c48a3e6",
   "metadata": {},
   "outputs": [
    {
     "name": "stderr",
     "output_type": "stream",
     "text": [
      "                                                                                \r"
     ]
    },
    {
     "name": "stdout",
     "output_type": "stream",
     "text": [
      "+--------------------+\n",
      "|                 fio|\n",
      "+--------------------+\n",
      "|Александрова Алек...|\n",
      "|Петров Петр Петрович|\n",
      "|Николаева Людмила...|\n",
      "|Степанов Степан С...|\n",
      "+--------------------+\n",
      "\n"
     ]
    }
   ],
   "source": [
    "# Вывести фамилии посетителей, которые читали хотя бы одну новость про спорт\n",
    "df_web_sport = df_lk.alias('lk').join(df_web.alias('web'),\n",
    "                                        on = [F.col('lk.user_id') == F.col('web.id')],\n",
    "                                        how = 'left')\\\n",
    "                                .filter(df_web.tag == 'Sport')\\\n",
    "                                .groupby('fio').count()\\\n",
    "                                .select('fio')\\\n",
    "                                .show()"
   ]
  },
  {
   "cell_type": "code",
   "execution_count": null,
   "id": "5335a3e0",
   "metadata": {},
   "outputs": [],
   "source": []
  },
  {
   "cell_type": "code",
   "execution_count": 49,
   "id": "4322ba0f",
   "metadata": {},
   "outputs": [
    {
     "name": "stderr",
     "output_type": "stream",
     "text": [
      "                                                                                \r"
     ]
    }
   ],
   "source": [
    "# Выведите 10% ЛК, у которых максимальная разница между датой создания ЛК и датой последнего посещения\n",
    "df_t = df_lk.alias('lk').join(df_web.alias('web'),\n",
    "                                        on = [F.col('lk.user_id') == F.col('web.id')],\n",
    "                                        how = 'left')\\\n",
    "                        .withColumn('date_diff', (F.datediff('web.event_time', 'lk.doc')))\\\n",
    "                        .groupby('lk.id')\\\n",
    "                        .agg({'event_time' : 'max',\n",
    "                              'date_diff' : 'max'})\\\n",
    "                        .orderBy('max(date_diff)',ascending = False)\\\n",
    "                        .select('id')\\\n",
    "                        \n",
    "df_t = df_t.limit(int(round((df_t.count() * 0.1), 0))) # Вывод 10% ЛК"
   ]
  },
  {
   "cell_type": "code",
   "execution_count": 50,
   "id": "0ad3e5a4",
   "metadata": {},
   "outputs": [
    {
     "name": "stderr",
     "output_type": "stream",
     "text": [
      "[Stage 83:=========================================>            (155 + 1) / 200]\r"
     ]
    },
    {
     "name": "stdout",
     "output_type": "stream",
     "text": [
      "+---+\n",
      "| id|\n",
      "+---+\n",
      "|104|\n",
      "+---+\n",
      "\n"
     ]
    },
    {
     "name": "stderr",
     "output_type": "stream",
     "text": [
      "                                                                                \r"
     ]
    }
   ],
   "source": [
    "df_t.show() "
   ]
  },
  {
   "cell_type": "code",
   "execution_count": null,
   "id": "4642ad7f",
   "metadata": {},
   "outputs": [],
   "source": []
  },
  {
   "cell_type": "code",
   "execution_count": 51,
   "id": "e3e39f1a",
   "metadata": {},
   "outputs": [],
   "source": [
    "# Вывести топ-5 страниц, которые чаще всего посещают мужчины и топ-5 страниц, которые посещают чаще женщины\n",
    "@udf(T.StringType())\n",
    "def calc_gender(fio):\n",
    "    surname, name, middlename = fio.split(' ')\n",
    "    if (((surname[-2:] == \"ов\") or (surname[-2:] == \"ев\")) and \\\n",
    "        ((middlename[-2:] == \"ич\") or (middlename[-2:] == \"ыч\"))):\n",
    "        return 'm'\n",
    "    else:\n",
    "        return 'w'"
   ]
  },
  {
   "cell_type": "code",
   "execution_count": 52,
   "id": "1916a1b1",
   "metadata": {},
   "outputs": [],
   "source": [
    "df_p = df_lk.alias('lk').join(df_web.alias('web'),\n",
    "                                        on = [F.col('lk.user_id') == F.col('web.id')],\n",
    "                                        how = 'left')\\\n",
    "                        .withColumn('gender', calc_gender(F.col('fio')))"
   ]
  },
  {
   "cell_type": "code",
   "execution_count": 53,
   "id": "a779d379",
   "metadata": {},
   "outputs": [
    {
     "name": "stderr",
     "output_type": "stream",
     "text": [
      "[Stage 98:==================================================>     (67 + 1) / 75]\r"
     ]
    },
    {
     "name": "stdout",
     "output_type": "stream",
     "text": [
      "+---+-------+--------------------+----------+----------+---+------+-------+--------+-----+-------------------+----------+------+\n",
      "| id|user_id|                 fio|       dob|       doc| id|  type|page_id|     tag| sign|         event_time|time_range|gender|\n",
      "+---+-------+--------------------+----------+----------+---+------+-------+--------+-----+-------------------+----------+------+\n",
      "|103|      1|Николаева Людмила...|1991-05-02|2017-01-17|  1| visit|    101|   Sport|false|2022-11-05 05:45:26|     4 - 8|     w|\n",
      "|103|      1|Николаева Людмила...|1991-05-02|2017-01-17|  1|scroll|    101|   Sport|false|2022-11-05 05:48:06|     4 - 8|     w|\n",
      "|103|      1|Николаева Людмила...|1991-05-02|2017-01-17|  1| click|    101|   Sport|false|2022-11-05 05:48:20|     4 - 8|     w|\n",
      "|103|      1|Николаева Людмила...|1991-05-02|2017-01-17|  1| visit|    102|Politics|false|2022-11-05 05:51:45|     4 - 8|     w|\n",
      "|103|      1|Николаева Людмила...|1991-05-02|2017-01-17|  1| click|    102|Politics|false|2022-11-05 05:52:45|     4 - 8|     w|\n",
      "|103|      1|Николаева Людмила...|1991-05-02|2017-01-17|  1| visit|    103|   Sport|false|2022-11-05 05:53:06|     4 - 8|     w|\n",
      "|106|      6|Степанов Степан С...|1989-06-11|2020-09-19|  6| visit|    106|Business| true|2022-11-06 09:51:57|    8 - 12|     m|\n",
      "|106|      6|Степанов Степан С...|1989-06-11|2020-09-19|  6|scroll|    106|Business| true|2022-11-06 09:52:39|    8 - 12|     m|\n",
      "|106|      6|Степанов Степан С...|1989-06-11|2020-09-19|  6| visit|    101|   Sport|false|2022-11-07 13:40:22|   12 - 16|     m|\n",
      "|104|      3|Петров Петр Петрович|1998-08-13|2013-05-27|  3| visit|    101|   Sport|false|2022-11-07 13:40:22|   12 - 16|     m|\n",
      "|104|      3|Петров Петр Петрович|1998-08-13|2013-05-27|  3|scroll|    101|   Sport|false|2022-11-07 13:41:26|   12 - 16|     m|\n",
      "|102|      5|Александрова Алек...|1995-01-22|2017-10-07|  5| visit|    101|   Sport| true|2022-11-07 13:41:51|   12 - 16|     w|\n",
      "|102|      5|Александрова Алек...|1995-01-22|2017-10-07|  5| click|    101|   Sport| true|2022-11-07 13:48:21|   12 - 16|     w|\n",
      "|102|      5|Александрова Алек...|1995-01-22|2017-10-07|  5| visit|    102|Politics| true|2022-11-07 13:48:46|   12 - 16|     w|\n",
      "|102|      5|Александрова Алек...|1995-01-22|2017-10-07|  5| click|    102|Politics| true|2022-11-07 13:49:36|   12 - 16|     w|\n",
      "|105|      4|Сидоров Иван Петр...|1994-03-10|2018-11-09|  4| visit|    106|Business|false|2022-11-07 13:41:45|   12 - 16|     m|\n",
      "|101|      2|Иванов Иван Иванович|1990-07-05|2016-08-01|  2| visit|    104|Politics| true|2022-11-06 09:46:41|    8 - 12|     m|\n",
      "|101|      2|Иванов Иван Иванович|1990-07-05|2016-08-01|  2|scroll|    104|Politics| true|2022-11-06 09:48:21|    8 - 12|     m|\n",
      "|101|      2|Иванов Иван Иванович|1990-07-05|2016-08-01|  2| click|    104|Politics| true|2022-11-06 09:49:11|    8 - 12|     m|\n",
      "|101|      2|Иванов Иван Иванович|1990-07-05|2016-08-01|  2| visit|    105|Business| true|2022-11-06 09:50:00|    8 - 12|     m|\n",
      "|101|      2|Иванов Иван Иванович|1990-07-05|2016-08-01|  2| click|    105|Business| true|2022-11-06 09:50:26|    8 - 12|     m|\n",
      "|101|      2|Иванов Иван Иванович|1990-07-05|2016-08-01|  2| visit|    106|Business| true|2022-11-06 09:51:57|    8 - 12|     m|\n",
      "|101|      2|Иванов Иван Иванович|1990-07-05|2016-08-01|  2|scroll|    106|Business| true|2022-11-06 09:52:39|    8 - 12|     m|\n",
      "+---+-------+--------------------+----------+----------+---+------+-------+--------+-----+-------------------+----------+------+\n",
      "\n"
     ]
    },
    {
     "name": "stderr",
     "output_type": "stream",
     "text": [
      "                                                                                \r"
     ]
    }
   ],
   "source": [
    "df_p.show(25)"
   ]
  },
  {
   "cell_type": "code",
   "execution_count": 54,
   "id": "01c7f7b0",
   "metadata": {},
   "outputs": [
    {
     "name": "stderr",
     "output_type": "stream",
     "text": [
      "[Stage 102:===========================================>         (164 + 1) / 200]\r"
     ]
    },
    {
     "name": "stdout",
     "output_type": "stream",
     "text": [
      "+-------+\n",
      "|page_id|\n",
      "+-------+\n",
      "|    106|\n",
      "|    101|\n",
      "|    104|\n",
      "|    105|\n",
      "+-------+\n",
      "\n"
     ]
    },
    {
     "name": "stderr",
     "output_type": "stream",
     "text": [
      "                                                                                \r"
     ]
    }
   ],
   "source": [
    "df_p.filter(df_p.gender == 'm')\\\n",
    "    .groupby('page_id').count()\\\n",
    "    .orderBy('count' , ascending = False)\\\n",
    "    .select('page_id')\\\n",
    "    .show(5)"
   ]
  },
  {
   "cell_type": "code",
   "execution_count": 55,
   "id": "79ae7a74",
   "metadata": {},
   "outputs": [
    {
     "name": "stderr",
     "output_type": "stream",
     "text": [
      "[Stage 105:================================================>    (184 + 1) / 200]\r"
     ]
    },
    {
     "name": "stdout",
     "output_type": "stream",
     "text": [
      "+-------+\n",
      "|page_id|\n",
      "+-------+\n",
      "|    101|\n",
      "|    102|\n",
      "|    103|\n",
      "+-------+\n",
      "\n"
     ]
    },
    {
     "name": "stderr",
     "output_type": "stream",
     "text": [
      "                                                                                \r"
     ]
    }
   ],
   "source": [
    "df_p.filter(df_p.gender == 'w')\\\n",
    "    .groupby('page_id').count()\\\n",
    "    .orderBy('count' ,ascending = False)\\\n",
    "    .select('page_id')\\\n",
    "    .show(5)"
   ]
  },
  {
   "cell_type": "code",
   "execution_count": 56,
   "id": "9b18bfee",
   "metadata": {},
   "outputs": [],
   "source": [
    "df_p_m = df_p.select(\"page_id\", \"gender\")\\\n",
    "             .groupby(\"page_id\", \"gender\")\\\n",
    "             .count()\\\n",
    "             .filter(df_p.gender == \"m\")\\\n",
    "             .orderBy('count' ,ascending = False)\\\n",
    "             .limit(5)"
   ]
  },
  {
   "cell_type": "code",
   "execution_count": 57,
   "id": "e08f8b82",
   "metadata": {},
   "outputs": [],
   "source": [
    "df_p_w = df_p.select(\"page_id\", \"gender\")\\\n",
    "             .groupby(\"page_id\", \"gender\")\\\n",
    "             .count()\\\n",
    "             .filter(df_p.gender == \"w\")\\\n",
    "             .orderBy('count' ,ascending = False)\\\n",
    "             .limit(5)"
   ]
  },
  {
   "cell_type": "code",
   "execution_count": 58,
   "id": "67c9fa4f",
   "metadata": {},
   "outputs": [
    {
     "name": "stderr",
     "output_type": "stream",
     "text": [
      "[Stage 113:=========================================>           (156 + 1) / 200]\r"
     ]
    },
    {
     "name": "stdout",
     "output_type": "stream",
     "text": [
      "+-------+------+\n",
      "|page_id|gender|\n",
      "+-------+------+\n",
      "|    106|     m|\n",
      "|    101|     m|\n",
      "|    104|     m|\n",
      "|    105|     m|\n",
      "|    101|     w|\n",
      "|    102|     w|\n",
      "|    103|     w|\n",
      "+-------+------+\n",
      "\n"
     ]
    },
    {
     "name": "stderr",
     "output_type": "stream",
     "text": [
      "                                                                                \r"
     ]
    }
   ],
   "source": [
    "df_p_m.union(df_p_w)\\\n",
    "      .select('page_id', 'gender')\\\n",
    "      .show()"
   ]
  },
  {
   "cell_type": "code",
   "execution_count": null,
   "id": "0d7f2420",
   "metadata": {},
   "outputs": [],
   "source": []
  },
  {
   "cell_type": "code",
   "execution_count": null,
   "id": "c83c4587",
   "metadata": {},
   "outputs": [],
   "source": []
  }
 ],
 "metadata": {
  "kernelspec": {
   "display_name": "Python 3 (ipykernel)",
   "language": "python",
   "name": "python3"
  },
  "language_info": {
   "codemirror_mode": {
    "name": "ipython",
    "version": 3
   },
   "file_extension": ".py",
   "mimetype": "text/x-python",
   "name": "python",
   "nbconvert_exporter": "python",
   "pygments_lexer": "ipython3",
   "version": "3.9.2"
  }
 },
 "nbformat": 4,
 "nbformat_minor": 5
}
