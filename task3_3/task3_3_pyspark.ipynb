{
 "cells": [
  {
   "cell_type": "code",
   "execution_count": 3,
   "id": "06b64167",
   "metadata": {},
   "outputs": [],
   "source": [
    "from pyspark.sql import SparkSession\n",
    "import pyspark.sql.types as T\n",
    "import pyspark.sql.functions as F\n",
    "\n",
    "from pyspark.sql.functions import udf\n",
    "\n",
    "import datetime"
   ]
  },
  {
   "cell_type": "code",
   "execution_count": 4,
   "id": "912a222d",
   "metadata": {},
   "outputs": [],
   "source": [
    "spark = SparkSession.builder.master(\"local\") \\\n",
    "                    .appName(\"Home_work_py\") \\\n",
    "                    .config(\"spark.driver.bindAddress\", \"localhost\") \\\n",
    "                    .config(\"spark.ui.port\", \"4040\") \\\n",
    "                    .getOrCreate()"
   ]
  },
  {
   "cell_type": "code",
   "execution_count": null,
   "id": "2a309f31",
   "metadata": {},
   "outputs": [],
   "source": []
  },
  {
   "cell_type": "code",
   "execution_count": 5,
   "id": "51340218",
   "metadata": {},
   "outputs": [],
   "source": [
    "schema_web = T.StructType([\n",
    "                T.StructField(\"id\", T.StringType(), True),\n",
    "                T.StructField(\"timestamp\", T.LongType(), True),\n",
    "                T.StructField(\"type\", T.StringType(), True),\n",
    "                T.StructField(\"page_id\", T.IntegerType(), True),\n",
    "                T.StructField(\"tag\", T.StringType(), True),\n",
    "                T.StructField(\"sign\", T.BooleanType(), True)])"
   ]
  },
  {
   "cell_type": "code",
   "execution_count": 6,
   "id": "d0d8270b",
   "metadata": {},
   "outputs": [],
   "source": [
    "data_web =[(1, 1667627126, \"visit\", 101, 'Sport', False),\n",
    "           (1, 1667627286, \"scroll\", 101, 'Sport', False),\n",
    "           (1, 1667627300, \"click\", 101, 'Sport', False),\n",
    "           (1, 1667627505, \"visit\", 102, 'Politics', False),\n",
    "           (1, 1667627565, \"click\", 102, 'Politics', False),\n",
    "           (1, 1667627586, \"visit\", 103, 'Sport', False),\n",
    "           (2, 1667728001, \"visit\", 104, 'Politics', True),\n",
    "           (2, 1667728101, \"scroll\", 104, 'Politics', True),\n",
    "           (2, 1667728151, \"click\", 104, 'Politics', True),\n",
    "           (2, 1667728200, \"visit\", 105, 'Business', True),\n",
    "           (2, 1667728226, \"click\", 105, 'Business', True),\n",
    "           (2, 1667728317, \"visit\", 106, 'Business', True),\n",
    "           (2, 1667728359, \"scroll\", 106, 'Business', True),\n",
    "           (3, 1667828422, \"visit\", 101, 'Sport', False),\n",
    "           (3, 1667828486, \"scroll\", 101, 'Sport', False),\n",
    "           (4, 1667828505, \"visit\", 106, 'Business', False),\n",
    "           (5, 1667828511, \"visit\", 101, 'Sport', True),\n",
    "           (5, 1667828901, \"click\", 101, 'Sport', True),\n",
    "           (5, 1667828926, \"visit\", 102, 'Politics', True),\n",
    "           (5, 1667828976, \"click\", 102, 'Politics', True),\n",
    "           (6, 1667728317, \"visit\", 106, 'Business', True),\n",
    "           (6, 1667728359, \"scroll\", 106, 'Business', True),\n",
    "           (6, 1667828422, \"visit\", 101, 'Sport', False),]\n",
    "\n",
    "\n",
    "df_web = spark.createDataFrame(data = data_web, schema = schema_web)"
   ]
  },
  {
   "cell_type": "code",
   "execution_count": 7,
   "id": "e8c9533c",
   "metadata": {},
   "outputs": [
    {
     "name": "stderr",
     "output_type": "stream",
     "text": [
      "                                                                                \r"
     ]
    },
    {
     "name": "stdout",
     "output_type": "stream",
     "text": [
      "+---+----------+------+-------+--------+-----+\n",
      "| id| timestamp|  type|page_id|     tag| sign|\n",
      "+---+----------+------+-------+--------+-----+\n",
      "|  1|1667627126| visit|    101|   Sport|false|\n",
      "|  1|1667627286|scroll|    101|   Sport|false|\n",
      "|  1|1667627300| click|    101|   Sport|false|\n",
      "|  1|1667627505| visit|    102|Politics|false|\n",
      "|  1|1667627565| click|    102|Politics|false|\n",
      "|  1|1667627586| visit|    103|   Sport|false|\n",
      "|  2|1667728001| visit|    104|Politics| true|\n",
      "|  2|1667728101|scroll|    104|Politics| true|\n",
      "|  2|1667728151| click|    104|Politics| true|\n",
      "|  2|1667728200| visit|    105|Business| true|\n",
      "|  2|1667728226| click|    105|Business| true|\n",
      "|  2|1667728317| visit|    106|Business| true|\n",
      "|  2|1667728359|scroll|    106|Business| true|\n",
      "|  3|1667828422| visit|    101|   Sport|false|\n",
      "|  3|1667828486|scroll|    101|   Sport|false|\n",
      "|  4|1667828505| visit|    106|Business|false|\n",
      "|  5|1667828511| visit|    101|   Sport| true|\n",
      "|  5|1667828901| click|    101|   Sport| true|\n",
      "|  5|1667828926| visit|    102|Politics| true|\n",
      "|  5|1667828976| click|    102|Politics| true|\n",
      "|  6|1667728317| visit|    106|Business| true|\n",
      "|  6|1667728359|scroll|    106|Business| true|\n",
      "|  6|1667828422| visit|    101|   Sport|false|\n",
      "+---+----------+------+-------+--------+-----+\n",
      "\n"
     ]
    }
   ],
   "source": [
    "df_web.show(25)"
   ]
  },
  {
   "cell_type": "code",
   "execution_count": null,
   "id": "9a3ea5fe",
   "metadata": {},
   "outputs": [],
   "source": []
  },
  {
   "cell_type": "code",
   "execution_count": 8,
   "id": "80154fa1",
   "metadata": {},
   "outputs": [
    {
     "name": "stderr",
     "output_type": "stream",
     "text": [
      "[Stage 2:==============================================>        (170 + 1) / 200]\r"
     ]
    },
    {
     "name": "stdout",
     "output_type": "stream",
     "text": [
      "+---+-----+\n",
      "| id|count|\n",
      "+---+-----+\n",
      "|  2|    7|\n",
      "|  1|    6|\n",
      "|  5|    4|\n",
      "|  6|    3|\n",
      "|  3|    2|\n",
      "|  4|    1|\n",
      "+---+-----+\n",
      "\n"
     ]
    },
    {
     "name": "stderr",
     "output_type": "stream",
     "text": [
      "                                                                                \r"
     ]
    }
   ],
   "source": [
    "#Вывести топ-5 самых активных посетителей сайта\n",
    "df_web.groupby('id')\\\n",
    "      .count()\\\n",
    "      .orderBy('count', ascending = False)\\\n",
    "      .show()"
   ]
  },
  {
   "cell_type": "code",
   "execution_count": null,
   "id": "26281b2e",
   "metadata": {},
   "outputs": [],
   "source": []
  },
  {
   "cell_type": "code",
   "execution_count": 9,
   "id": "c4311d94",
   "metadata": {},
   "outputs": [
    {
     "name": "stderr",
     "output_type": "stream",
     "text": [
      "[Stage 4:====================================>                  (132 + 1) / 200]\r"
     ]
    },
    {
     "name": "stdout",
     "output_type": "stream",
     "text": [
      "+---+---------+\n",
      "| id|event_cnt|\n",
      "+---+---------+\n",
      "|  2|        7|\n",
      "|  1|        6|\n",
      "|  5|        4|\n",
      "|  6|        3|\n",
      "|  3|        2|\n",
      "+---+---------+\n",
      "only showing top 5 rows\n",
      "\n"
     ]
    },
    {
     "name": "stderr",
     "output_type": "stream",
     "text": [
      "                                                                                \r"
     ]
    }
   ],
   "source": [
    "df_web.groupby('id')\\\n",
    "      .agg(F.count('*').alias('event_cnt'))\\\n",
    "      .orderBy('event_cnt', ascending = False)\\\n",
    "      .show(5)"
   ]
  },
  {
   "cell_type": "code",
   "execution_count": null,
   "id": "92442b7e",
   "metadata": {},
   "outputs": [],
   "source": []
  },
  {
   "cell_type": "code",
   "execution_count": 10,
   "id": "d4c3b471",
   "metadata": {},
   "outputs": [
    {
     "name": "stdout",
     "output_type": "stream",
     "text": [
      "+-----------------+\n",
      "|percent_sign_user|\n",
      "+-----------------+\n",
      "|               56|\n",
      "+-----------------+\n",
      "\n"
     ]
    }
   ],
   "source": [
    "# Посчитать процент посетителей, у которых есть ЛК\n",
    "df_web.select(F.floor((F.count(F.when(df_web.sign == 'true', True)) * 100 / F.count('*'))).alias('percent_sign_user'))\\\n",
    "      .show()"
   ]
  },
  {
   "cell_type": "code",
   "execution_count": null,
   "id": "1d303bdf",
   "metadata": {},
   "outputs": [],
   "source": []
  },
  {
   "cell_type": "code",
   "execution_count": 11,
   "id": "804ff5f5",
   "metadata": {},
   "outputs": [
    {
     "name": "stderr",
     "output_type": "stream",
     "text": [
      "[Stage 8:===========================================>           (159 + 2) / 200]\r"
     ]
    },
    {
     "name": "stdout",
     "output_type": "stream",
     "text": [
      "+-------+\n",
      "|page_id|\n",
      "+-------+\n",
      "|    101|\n",
      "|    102|\n",
      "|    104|\n",
      "|    105|\n",
      "|    103|\n",
      "+-------+\n",
      "only showing top 5 rows\n",
      "\n"
     ]
    },
    {
     "name": "stderr",
     "output_type": "stream",
     "text": [
      "                                                                                \r"
     ]
    }
   ],
   "source": [
    "# Вывести топ-5 страниц сайта по показателю общего кол-ва кликов на данной странице\n",
    "df_web.groupby('page_id')\\\n",
    "      .agg(F.count(F.when(df_web.type =='click', True)).alias(\"type_cnt\"))\\\n",
    "      .orderBy('type_cnt', ascending = False)\\\n",
    "      .select('page_id')\\\n",
    "      .show(5)"
   ]
  },
  {
   "cell_type": "code",
   "execution_count": 12,
   "id": "7c04f1e4",
   "metadata": {},
   "outputs": [],
   "source": [
    "# Добавьте столбец к фрейму данных со значением временного диапазона в рамках суток с размером окна – 4 часа(0-4, 4-8, 8-12, 12-16, 16-20, 20-24 и т.д.)\n",
    "df_web = df_web.select(*[i for i in df_web.columns if i != 'timestamp'],\n",
    "                       F.from_unixtime('timestamp').alias('event_time'))\\\n",
    "               .withColumn('range', F.floor(F.hour('event_time') / F.lit(4)))\\\n",
    "               .withColumn('time_range', F.expr(\"case when range = 0 then '0 - 4'\" +\n",
    "                                                     \"when range = 1 then '4 - 8'\" +\n",
    "                                                     \"when range = 2 then '8 - 12'\" +\n",
    "                                                     \"when range = 3 then '12 - 16'\" +\n",
    "                                                     \"when range = 4 then '16 - 20'\" +\n",
    "                                                     \"when range = 5 then '20 - 24'\" +\n",
    "                                                     \"else 'Unknown' end\"))\\\n",
    "               .drop('range')"
   ]
  },
  {
   "cell_type": "code",
   "execution_count": 13,
   "id": "6e2cdd0b",
   "metadata": {},
   "outputs": [
    {
     "name": "stdout",
     "output_type": "stream",
     "text": [
      "+---+------+-------+--------+-----+-------------------+----------+\n",
      "| id|  type|page_id|     tag| sign|         event_time|time_range|\n",
      "+---+------+-------+--------+-----+-------------------+----------+\n",
      "|  1| visit|    101|   Sport|false|2022-11-05 05:45:26|     4 - 8|\n",
      "|  1|scroll|    101|   Sport|false|2022-11-05 05:48:06|     4 - 8|\n",
      "|  1| click|    101|   Sport|false|2022-11-05 05:48:20|     4 - 8|\n",
      "|  1| visit|    102|Politics|false|2022-11-05 05:51:45|     4 - 8|\n",
      "|  1| click|    102|Politics|false|2022-11-05 05:52:45|     4 - 8|\n",
      "|  1| visit|    103|   Sport|false|2022-11-05 05:53:06|     4 - 8|\n",
      "|  2| visit|    104|Politics| true|2022-11-06 09:46:41|    8 - 12|\n",
      "|  2|scroll|    104|Politics| true|2022-11-06 09:48:21|    8 - 12|\n",
      "|  2| click|    104|Politics| true|2022-11-06 09:49:11|    8 - 12|\n",
      "|  2| visit|    105|Business| true|2022-11-06 09:50:00|    8 - 12|\n",
      "|  2| click|    105|Business| true|2022-11-06 09:50:26|    8 - 12|\n",
      "|  2| visit|    106|Business| true|2022-11-06 09:51:57|    8 - 12|\n",
      "|  2|scroll|    106|Business| true|2022-11-06 09:52:39|    8 - 12|\n",
      "|  3| visit|    101|   Sport|false|2022-11-07 13:40:22|   12 - 16|\n",
      "|  3|scroll|    101|   Sport|false|2022-11-07 13:41:26|   12 - 16|\n",
      "|  4| visit|    106|Business|false|2022-11-07 13:41:45|   12 - 16|\n",
      "|  5| visit|    101|   Sport| true|2022-11-07 13:41:51|   12 - 16|\n",
      "|  5| click|    101|   Sport| true|2022-11-07 13:48:21|   12 - 16|\n",
      "|  5| visit|    102|Politics| true|2022-11-07 13:48:46|   12 - 16|\n",
      "|  5| click|    102|Politics| true|2022-11-07 13:49:36|   12 - 16|\n",
      "|  6| visit|    106|Business| true|2022-11-06 09:51:57|    8 - 12|\n",
      "|  6|scroll|    106|Business| true|2022-11-06 09:52:39|    8 - 12|\n",
      "|  6| visit|    101|   Sport|false|2022-11-07 13:40:22|   12 - 16|\n",
      "+---+------+-------+--------+-----+-------------------+----------+\n",
      "\n"
     ]
    }
   ],
   "source": [
    "df_web.show(25)"
   ]
  },
  {
   "cell_type": "code",
   "execution_count": null,
   "id": "86b76201",
   "metadata": {},
   "outputs": [],
   "source": []
  },
  {
   "cell_type": "code",
   "execution_count": 14,
   "id": "2d6d60a5",
   "metadata": {},
   "outputs": [
    {
     "name": "stderr",
     "output_type": "stream",
     "text": [
      "[Stage 11:================================>                     (122 + 1) / 200]\r"
     ]
    },
    {
     "name": "stdout",
     "output_type": "stream",
     "text": [
      "+----------+\n",
      "|time_range|\n",
      "+----------+\n",
      "|    8 - 12|\n",
      "|   12 - 16|\n",
      "|     4 - 8|\n",
      "+----------+\n",
      "\n"
     ]
    },
    {
     "name": "stderr",
     "output_type": "stream",
     "text": [
      "                                                                                \r"
     ]
    }
   ],
   "source": [
    "#  Выведите временной промежуток на основе предыдущего задания, в течение которого было больше всего активностей на сайте.\n",
    "df_web.groupby('time_range')\\\n",
    "      .agg(F.count('*').alias('range_cnt'))\\\n",
    "      .orderBy('range_cnt', ascending = False)\\\n",
    "      .select('time_range')\\\n",
    "      .show()"
   ]
  },
  {
   "cell_type": "code",
   "execution_count": null,
   "id": "af5584c1",
   "metadata": {},
   "outputs": [],
   "source": []
  },
  {
   "cell_type": "code",
   "execution_count": 15,
   "id": "1f5b827d",
   "metadata": {},
   "outputs": [],
   "source": [
    "schema_lk = T.StructType([\n",
    "                T.StructField(\"id\", T.StringType(), True),\n",
    "                T.StructField(\"user_id\", T.IntegerType(), True),\n",
    "                T.StructField(\"fio\", T.StringType(), True),\n",
    "                T.StructField(\"dob\", T.DateType(), True),\n",
    "                T.StructField(\"doc\", T.DateType(), True)])"
   ]
  },
  {
   "cell_type": "code",
   "execution_count": 16,
   "id": "f4d35200",
   "metadata": {},
   "outputs": [],
   "source": [
    "data_lk = [\n",
    "    (101, 2, \"Иванов Иван Иванович\", datetime.datetime(1990, 7, 5), datetime.datetime(2016, 8, 1)),\n",
    "    (102, 5, \"Александрова Александра Александровна\", datetime.datetime(1995, 1, 22), datetime.datetime(2017, 10, 7)),\n",
    "    (103, 1, \"Николаева Людмила Петрововна\", datetime.datetime(1991, 5, 2), datetime.datetime(2017, 1, 17)),\n",
    "    (104, 3, \"Петров Петр Петрович\", datetime.datetime(1998, 8, 13), datetime.datetime(2013, 5, 27)),\n",
    "    (105, 4, \"Сидоров Иван Петрович\", datetime.datetime(1994, 3, 10), datetime.datetime(2018, 11, 9)),\n",
    "    (106, 6, \"Степанов Степан Степаныч\", datetime.datetime(1989, 6, 11), datetime.datetime(2020, 9, 19))]\n",
    "\n",
    "df_lk = spark.createDataFrame(data = data_lk, schema = schema_lk)"
   ]
  },
  {
   "cell_type": "code",
   "execution_count": 17,
   "id": "f30f3c79",
   "metadata": {},
   "outputs": [
    {
     "name": "stdout",
     "output_type": "stream",
     "text": [
      "+---+-------+--------------------+----------+----------+\n",
      "| id|user_id|                 fio|       dob|       doc|\n",
      "+---+-------+--------------------+----------+----------+\n",
      "|101|      2|Иванов Иван Иванович|1990-07-05|2016-08-01|\n",
      "|102|      5|Александрова Алек...|1995-01-22|2017-10-07|\n",
      "|103|      1|Николаева Людмила...|1991-05-02|2017-01-17|\n",
      "|104|      3|Петров Петр Петрович|1998-08-13|2013-05-27|\n",
      "|105|      4|Сидоров Иван Петр...|1994-03-10|2018-11-09|\n",
      "|106|      6|Степанов Степан С...|1989-06-11|2020-09-19|\n",
      "+---+-------+--------------------+----------+----------+\n",
      "\n"
     ]
    }
   ],
   "source": [
    "df_lk.show()"
   ]
  },
  {
   "cell_type": "code",
   "execution_count": null,
   "id": "85d10141",
   "metadata": {},
   "outputs": [],
   "source": []
  },
  {
   "cell_type": "code",
   "execution_count": 18,
   "id": "7acc4b22",
   "metadata": {},
   "outputs": [
    {
     "name": "stderr",
     "output_type": "stream",
     "text": [
      "                                                                                \r"
     ]
    },
    {
     "name": "stdout",
     "output_type": "stream",
     "text": [
      "+--------------------+\n",
      "|                 fio|\n",
      "+--------------------+\n",
      "|Александрова Алек...|\n",
      "|Петров Петр Петрович|\n",
      "|Николаева Людмила...|\n",
      "|Степанов Степан С...|\n",
      "+--------------------+\n",
      "\n"
     ]
    }
   ],
   "source": [
    "# Вывести фамилии посетителей, которые читали хотя бы одну новость про спорт\n",
    "df_web_sport = df_lk.alias('lk').join(df_web.alias('web'),\n",
    "                                        on = [F.col('lk.user_id') == F.col('web.id')],\n",
    "                                        how = 'left')\\\n",
    "                                .filter(df_web.tag == 'Sport')\\\n",
    "                                .groupby('fio').count()\\\n",
    "                                .select('fio')\\\n",
    "                                .show()"
   ]
  },
  {
   "cell_type": "code",
   "execution_count": null,
   "id": "02112eab",
   "metadata": {},
   "outputs": [],
   "source": []
  },
  {
   "cell_type": "code",
   "execution_count": 21,
   "id": "669d920a",
   "metadata": {},
   "outputs": [
    {
     "name": "stderr",
     "output_type": "stream",
     "text": [
      "                                                                                \r"
     ]
    }
   ],
   "source": [
    "# Выведите 10% ЛК, у которых максимальная разница между датой создания ЛК и датой последнего посещения\n",
    "df_t = df_lk.alias('lk').join(df_web.alias('web'),\n",
    "                                        on = [F.col('lk.user_id') == F.col('web.id')],\n",
    "                                        how = 'left')\\\n",
    "                        .withColumn('date_diff', (F.datediff('web.event_time', 'lk.doc')))\\\n",
    "                        .groupby('lk.id')\\\n",
    "                        .agg({'event_time' : 'max',\n",
    "                              'date_diff' : 'max'})\\\n",
    "                        .orderBy('max(date_diff)',ascending = False)\\\n",
    "                        .select('id')\\\n",
    "                        .limit(int(round((df_t.count() * 0.1), 0))) # Вывод 10% ЛК"
   ]
  },
  {
   "cell_type": "code",
   "execution_count": 23,
   "id": "8f141477",
   "metadata": {},
   "outputs": [
    {
     "name": "stderr",
     "output_type": "stream",
     "text": [
      "[Stage 45:===================================================>  (190 + 1) / 200]\r"
     ]
    },
    {
     "name": "stdout",
     "output_type": "stream",
     "text": [
      "+---+\n",
      "| id|\n",
      "+---+\n",
      "|104|\n",
      "+---+\n",
      "\n"
     ]
    },
    {
     "name": "stderr",
     "output_type": "stream",
     "text": [
      "                                                                                \r"
     ]
    }
   ],
   "source": [
    "df_t.show() "
   ]
  },
  {
   "cell_type": "code",
   "execution_count": null,
   "id": "b494cfb1",
   "metadata": {},
   "outputs": [],
   "source": []
  },
  {
   "cell_type": "code",
   "execution_count": 24,
   "id": "6ce70d36",
   "metadata": {},
   "outputs": [],
   "source": [
    "# Вывести топ-5 страниц, которые чаще всего посещают мужчины и топ-5 страниц, которые посещают чаще женщины\n",
    "@udf(T.StringType())\n",
    "def calc_gender(fio):\n",
    "    surname, name, middlename = fio.split(' ')\n",
    "    if (((surname[-2:] == \"ов\") or (surname[-2:] == \"ев\")) and \\\n",
    "        ((middlename[-2:] == \"ич\") or (middlename[-2:] == \"ыч\"))):\n",
    "        return 'm'\n",
    "    else:\n",
    "        return 'w'"
   ]
  },
  {
   "cell_type": "code",
   "execution_count": 25,
   "id": "59824bf2",
   "metadata": {},
   "outputs": [],
   "source": [
    "df_p = df_lk.alias('lk').join(df_web.alias('web'),\n",
    "                                        on = [F.col('lk.user_id') == F.col('web.id')],\n",
    "                                        how = 'left')\\\n",
    "                        .withColumn('gender', calc_gender(F.col('fio')))"
   ]
  },
  {
   "cell_type": "code",
   "execution_count": 26,
   "id": "5ff34271",
   "metadata": {},
   "outputs": [
    {
     "name": "stderr",
     "output_type": "stream",
     "text": [
      "                                                                                \r"
     ]
    },
    {
     "name": "stdout",
     "output_type": "stream",
     "text": [
      "+---+-------+--------------------+----------+----------+---+------+-------+--------+-----+-------------------+----------+------+\n",
      "| id|user_id|                 fio|       dob|       doc| id|  type|page_id|     tag| sign|         event_time|time_range|gender|\n",
      "+---+-------+--------------------+----------+----------+---+------+-------+--------+-----+-------------------+----------+------+\n",
      "|103|      1|Николаева Людмила...|1991-05-02|2017-01-17|  1| visit|    101|   Sport|false|2022-11-05 05:45:26|     4 - 8|     w|\n",
      "|103|      1|Николаева Людмила...|1991-05-02|2017-01-17|  1|scroll|    101|   Sport|false|2022-11-05 05:48:06|     4 - 8|     w|\n",
      "|103|      1|Николаева Людмила...|1991-05-02|2017-01-17|  1| click|    101|   Sport|false|2022-11-05 05:48:20|     4 - 8|     w|\n",
      "|103|      1|Николаева Людмила...|1991-05-02|2017-01-17|  1| visit|    102|Politics|false|2022-11-05 05:51:45|     4 - 8|     w|\n",
      "|103|      1|Николаева Людмила...|1991-05-02|2017-01-17|  1| click|    102|Politics|false|2022-11-05 05:52:45|     4 - 8|     w|\n",
      "|103|      1|Николаева Людмила...|1991-05-02|2017-01-17|  1| visit|    103|   Sport|false|2022-11-05 05:53:06|     4 - 8|     w|\n",
      "|106|      6|Степанов Степан С...|1989-06-11|2020-09-19|  6| visit|    106|Business| true|2022-11-06 09:51:57|    8 - 12|     m|\n",
      "|106|      6|Степанов Степан С...|1989-06-11|2020-09-19|  6|scroll|    106|Business| true|2022-11-06 09:52:39|    8 - 12|     m|\n",
      "|106|      6|Степанов Степан С...|1989-06-11|2020-09-19|  6| visit|    101|   Sport|false|2022-11-07 13:40:22|   12 - 16|     m|\n",
      "|104|      3|Петров Петр Петрович|1998-08-13|2013-05-27|  3| visit|    101|   Sport|false|2022-11-07 13:40:22|   12 - 16|     m|\n",
      "|104|      3|Петров Петр Петрович|1998-08-13|2013-05-27|  3|scroll|    101|   Sport|false|2022-11-07 13:41:26|   12 - 16|     m|\n",
      "|102|      5|Александрова Алек...|1995-01-22|2017-10-07|  5| visit|    101|   Sport| true|2022-11-07 13:41:51|   12 - 16|     w|\n",
      "|102|      5|Александрова Алек...|1995-01-22|2017-10-07|  5| click|    101|   Sport| true|2022-11-07 13:48:21|   12 - 16|     w|\n",
      "|102|      5|Александрова Алек...|1995-01-22|2017-10-07|  5| visit|    102|Politics| true|2022-11-07 13:48:46|   12 - 16|     w|\n",
      "|102|      5|Александрова Алек...|1995-01-22|2017-10-07|  5| click|    102|Politics| true|2022-11-07 13:49:36|   12 - 16|     w|\n",
      "|105|      4|Сидоров Иван Петр...|1994-03-10|2018-11-09|  4| visit|    106|Business|false|2022-11-07 13:41:45|   12 - 16|     m|\n",
      "|101|      2|Иванов Иван Иванович|1990-07-05|2016-08-01|  2| visit|    104|Politics| true|2022-11-06 09:46:41|    8 - 12|     m|\n",
      "|101|      2|Иванов Иван Иванович|1990-07-05|2016-08-01|  2|scroll|    104|Politics| true|2022-11-06 09:48:21|    8 - 12|     m|\n",
      "|101|      2|Иванов Иван Иванович|1990-07-05|2016-08-01|  2| click|    104|Politics| true|2022-11-06 09:49:11|    8 - 12|     m|\n",
      "|101|      2|Иванов Иван Иванович|1990-07-05|2016-08-01|  2| visit|    105|Business| true|2022-11-06 09:50:00|    8 - 12|     m|\n",
      "|101|      2|Иванов Иван Иванович|1990-07-05|2016-08-01|  2| click|    105|Business| true|2022-11-06 09:50:26|    8 - 12|     m|\n",
      "|101|      2|Иванов Иван Иванович|1990-07-05|2016-08-01|  2| visit|    106|Business| true|2022-11-06 09:51:57|    8 - 12|     m|\n",
      "|101|      2|Иванов Иван Иванович|1990-07-05|2016-08-01|  2|scroll|    106|Business| true|2022-11-06 09:52:39|    8 - 12|     m|\n",
      "+---+-------+--------------------+----------+----------+---+------+-------+--------+-----+-------------------+----------+------+\n",
      "\n"
     ]
    }
   ],
   "source": [
    "df_p.show(25)"
   ]
  },
  {
   "cell_type": "code",
   "execution_count": 1245,
   "id": "fc3afe6b",
   "metadata": {},
   "outputs": [
    {
     "name": "stderr",
     "output_type": "stream",
     "text": [
      "[Stage 3397:===================================================>(198 + 1) / 200]\r"
     ]
    },
    {
     "name": "stdout",
     "output_type": "stream",
     "text": [
      "+-------+\n",
      "|page_id|\n",
      "+-------+\n",
      "|    106|\n",
      "|    101|\n",
      "|    104|\n",
      "|    105|\n",
      "+-------+\n",
      "\n"
     ]
    },
    {
     "name": "stderr",
     "output_type": "stream",
     "text": [
      "                                                                                \r"
     ]
    }
   ],
   "source": [
    "df_p.filter(df_p.gender == 'm')\\\n",
    "    .groupby('page_id').count()\\\n",
    "    .orderBy('count' , ascending = False)\\\n",
    "    .select('page_id')\\\n",
    "    .show(5)"
   ]
  },
  {
   "cell_type": "code",
   "execution_count": 1243,
   "id": "b18d62e6",
   "metadata": {},
   "outputs": [
    {
     "name": "stderr",
     "output_type": "stream",
     "text": [
      "[Stage 3393:================================================>   (188 + 1) / 200]\r"
     ]
    },
    {
     "name": "stdout",
     "output_type": "stream",
     "text": [
      "+-------+\n",
      "|page_id|\n",
      "+-------+\n",
      "|    101|\n",
      "|    102|\n",
      "|    103|\n",
      "+-------+\n",
      "\n"
     ]
    },
    {
     "name": "stderr",
     "output_type": "stream",
     "text": [
      "                                                                                \r"
     ]
    }
   ],
   "source": [
    "df_p.filter(df_p.gender == 'w')\\\n",
    "    .groupby('page_id').count()\\\n",
    "    .orderBy('count' ,ascending = False)\\\n",
    "    .select('page_id')\\\n",
    "    .show(5)"
   ]
  },
  {
   "cell_type": "code",
   "execution_count": 1264,
   "id": "d796aee1",
   "metadata": {},
   "outputs": [],
   "source": [
    "df_p_m = df_p.select(\"page_id\", \"gender\")\\\n",
    "             .groupby(\"page_id\", \"gender\")\\\n",
    "             .count()\\\n",
    "             .filter(df_p.gender == \"m\")\\\n",
    "             .orderBy('count' ,ascending = False)\\\n",
    "             .limit(5)"
   ]
  },
  {
   "cell_type": "code",
   "execution_count": 1265,
   "id": "a5a434e5",
   "metadata": {},
   "outputs": [],
   "source": [
    "df_p_w = df_p.select(\"page_id\", \"gender\")\\\n",
    "             .groupby(\"page_id\", \"gender\")\\\n",
    "             .count()\\\n",
    "             .filter(df_p.gender == \"w\")\\\n",
    "             .orderBy('count' ,ascending = False)\\\n",
    "             .limit(5)"
   ]
  },
  {
   "cell_type": "code",
   "execution_count": 1266,
   "id": "f86fea43",
   "metadata": {},
   "outputs": [
    {
     "name": "stderr",
     "output_type": "stream",
     "text": [
      "[Stage 3460:================================================>   (187 + 2) / 200]\r"
     ]
    },
    {
     "name": "stdout",
     "output_type": "stream",
     "text": [
      "+-------+------+\n",
      "|page_id|gender|\n",
      "+-------+------+\n",
      "|    106|     m|\n",
      "|    101|     m|\n",
      "|    104|     m|\n",
      "|    105|     m|\n",
      "|    101|     w|\n",
      "|    102|     w|\n",
      "|    103|     w|\n",
      "+-------+------+\n",
      "\n"
     ]
    },
    {
     "name": "stderr",
     "output_type": "stream",
     "text": [
      "                                                                                \r"
     ]
    }
   ],
   "source": [
    "df_p_m.union(df_p_w)\\\n",
    "      .select('page_id', 'gender')\\\n",
    "      .show()"
   ]
  },
  {
   "cell_type": "code",
   "execution_count": null,
   "id": "50b9500d",
   "metadata": {},
   "outputs": [],
   "source": []
  },
  {
   "cell_type": "code",
   "execution_count": null,
   "id": "ef57fdb2",
   "metadata": {},
   "outputs": [],
   "source": []
  }
 ],
 "metadata": {
  "kernelspec": {
   "display_name": "Python 3 (ipykernel)",
   "language": "python",
   "name": "python3"
  },
  "language_info": {
   "codemirror_mode": {
    "name": "ipython",
    "version": 3
   },
   "file_extension": ".py",
   "mimetype": "text/x-python",
   "name": "python",
   "nbconvert_exporter": "python",
   "pygments_lexer": "ipython3",
   "version": "3.9.2"
  }
 },
 "nbformat": 4,
 "nbformat_minor": 5
}
